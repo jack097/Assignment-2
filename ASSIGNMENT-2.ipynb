{
 "cells": [
  {
   "cell_type": "code",
   "execution_count": 1,
   "metadata": {},
   "outputs": [],
   "source": [
    "#Date : 08/07/2021\n",
    "#ASSIGNMENT-2 :  \n",
    "#NAME :- Jagannath Patil\n",
    "#EMAIL:- jagannathpatil7779@gmail.com"
   ]
  },
  {
   "cell_type": "code",
   "execution_count": 2,
   "metadata": {},
   "outputs": [],
   "source": [
    "import numpy as np\n",
    "import matplotlib.pyplot as plt\n",
    "import pandas as pd\n",
    "import seaborn as sns\n",
    "%matplotlib inline\n",
    "from numpy.random import randn,randint,uniform,sample"
   ]
  },
  {
   "cell_type": "code",
   "execution_count": 3,
   "metadata": {},
   "outputs": [
    {
     "data": {
      "text/html": [
       "<div>\n",
       "<style scoped>\n",
       "    .dataframe tbody tr th:only-of-type {\n",
       "        vertical-align: middle;\n",
       "    }\n",
       "\n",
       "    .dataframe tbody tr th {\n",
       "        vertical-align: top;\n",
       "    }\n",
       "\n",
       "    .dataframe thead th {\n",
       "        text-align: right;\n",
       "    }\n",
       "</style>\n",
       "<table border=\"1\" class=\"dataframe\">\n",
       "  <thead>\n",
       "    <tr style=\"text-align: right;\">\n",
       "      <th></th>\n",
       "      <th>a</th>\n",
       "      <th>b</th>\n",
       "      <th>c</th>\n",
       "      <th>d</th>\n",
       "    </tr>\n",
       "  </thead>\n",
       "  <tbody>\n",
       "    <tr>\n",
       "      <th>0</th>\n",
       "      <td>0.194931</td>\n",
       "      <td>-0.296776</td>\n",
       "      <td>-0.944039</td>\n",
       "      <td>1.547778</td>\n",
       "    </tr>\n",
       "    <tr>\n",
       "      <th>1</th>\n",
       "      <td>0.377451</td>\n",
       "      <td>-0.211708</td>\n",
       "      <td>-1.351950</td>\n",
       "      <td>0.055842</td>\n",
       "    </tr>\n",
       "    <tr>\n",
       "      <th>2</th>\n",
       "      <td>0.430729</td>\n",
       "      <td>0.319222</td>\n",
       "      <td>1.234409</td>\n",
       "      <td>-0.646735</td>\n",
       "    </tr>\n",
       "    <tr>\n",
       "      <th>3</th>\n",
       "      <td>-0.258826</td>\n",
       "      <td>-0.945752</td>\n",
       "      <td>-0.437271</td>\n",
       "      <td>-0.334604</td>\n",
       "    </tr>\n",
       "    <tr>\n",
       "      <th>4</th>\n",
       "      <td>-0.062678</td>\n",
       "      <td>0.636819</td>\n",
       "      <td>0.344491</td>\n",
       "      <td>1.299870</td>\n",
       "    </tr>\n",
       "    <tr>\n",
       "      <th>5</th>\n",
       "      <td>0.257806</td>\n",
       "      <td>1.267792</td>\n",
       "      <td>0.104191</td>\n",
       "      <td>-1.994752</td>\n",
       "    </tr>\n",
       "    <tr>\n",
       "      <th>6</th>\n",
       "      <td>1.443390</td>\n",
       "      <td>1.778853</td>\n",
       "      <td>-1.113921</td>\n",
       "      <td>-0.538453</td>\n",
       "    </tr>\n",
       "    <tr>\n",
       "      <th>7</th>\n",
       "      <td>-1.028021</td>\n",
       "      <td>-0.860587</td>\n",
       "      <td>0.737329</td>\n",
       "      <td>1.636814</td>\n",
       "    </tr>\n",
       "    <tr>\n",
       "      <th>8</th>\n",
       "      <td>0.337566</td>\n",
       "      <td>-1.574713</td>\n",
       "      <td>1.247334</td>\n",
       "      <td>-0.376268</td>\n",
       "    </tr>\n",
       "    <tr>\n",
       "      <th>9</th>\n",
       "      <td>1.253562</td>\n",
       "      <td>-0.880300</td>\n",
       "      <td>-1.629264</td>\n",
       "      <td>0.926814</td>\n",
       "    </tr>\n",
       "  </tbody>\n",
       "</table>\n",
       "</div>"
      ],
      "text/plain": [
       "          a         b         c         d\n",
       "0  0.194931 -0.296776 -0.944039  1.547778\n",
       "1  0.377451 -0.211708 -1.351950  0.055842\n",
       "2  0.430729  0.319222  1.234409 -0.646735\n",
       "3 -0.258826 -0.945752 -0.437271 -0.334604\n",
       "4 -0.062678  0.636819  0.344491  1.299870\n",
       "5  0.257806  1.267792  0.104191 -1.994752\n",
       "6  1.443390  1.778853 -1.113921 -0.538453\n",
       "7 -1.028021 -0.860587  0.737329  1.636814\n",
       "8  0.337566 -1.574713  1.247334 -0.376268\n",
       "9  1.253562 -0.880300 -1.629264  0.926814"
      ]
     },
     "execution_count": 3,
     "metadata": {},
     "output_type": "execute_result"
    }
   ],
   "source": [
    "df=pd.DataFrame(randn(10,4),columns=['a','b','c','d'])\n",
    "df"
   ]
  },
  {
   "cell_type": "code",
   "execution_count": 4,
   "metadata": {},
   "outputs": [
    {
     "data": {
      "image/png": "[encoded data removed]",
      "text/plain": [
       "<Figure size 432x288 with 1 Axes>"
      ]
     },
     "metadata": {
      "needs_background": "light"
     },
     "output_type": "display_data"
    }
   ],
   "source": [
    "df.plot.bar()\n",
    "plt.title(\"Bar Graph\")\n",
    "plt.show()"
   ]
  },
  {
   "cell_type": "code",
   "execution_count": null,
   "metadata": {},
   "outputs": [],
   "source": []
  }
 ],
 "metadata": {
  "kernelspec": {
   "display_name": "Python 3",
   "language": "python",
   "name": "python3"
  },
  "language_info": {
   "codemirror_mode": {
    "name": "ipython",
    "version": 3
   },
   "file_extension": ".py",
   "mimetype": "text/x-python",
   "name": "python",
   "nbconvert_exporter": "python",
   "pygments_lexer": "ipython3",
   "version": "3.8.5"
  }
 },
 "nbformat": 4,
 "nbformat_minor": 4
}
